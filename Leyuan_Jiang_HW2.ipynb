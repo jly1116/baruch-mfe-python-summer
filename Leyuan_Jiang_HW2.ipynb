{
 "cells": [
  {
   "cell_type": "markdown",
   "metadata": {},
   "source": [
    "# Homework 2 by Leyuan Jiang"
   ]
  },
  {
   "cell_type": "markdown",
   "metadata": {},
   "source": [
    "## 1. Merge Sorted stream"
   ]
  },
  {
   "cell_type": "code",
   "execution_count": 17,
   "metadata": {},
   "outputs": [],
   "source": [
    "def merge_sorted_stream(*streams):          # assume each stream is a generator\n",
    "    min_in_each = list(next(first) for first in streams)          # 每次比较所有stream中开头元素，也就是最小的\n",
    "    while min_in_each:\n",
    "        min_index = min_in_each.index(min(min_in_each))           # 找出最小元素位置，输出，该位置更新为stream中下一个\n",
    "        yield min_in_each[min_index]\n",
    "        try:\n",
    "            min_in_each[min_index] = next(streams[min_index])\n",
    "        except StopIteration:\n",
    "            streams = streams[:min_index] + streams[min_index+1:]  #完成一个stream后，丢掉\n",
    "            min_in_each.pop(min_index)"
   ]
  },
  {
   "cell_type": "code",
   "execution_count": 18,
   "metadata": {},
   "outputs": [
    {
     "name": "stdout",
     "output_type": "stream",
     "text": [
      "0\n",
      "1\n",
      "2\n",
      "3\n",
      "4\n",
      "5\n",
      "6\n",
      "7\n",
      "8\n",
      "9\n"
     ]
    }
   ],
   "source": [
    "stream1 = (x for x in range(0, 10, 2))\n",
    "stream2 = (x for x in range(1, 10, 2))\n",
    "for x in merge_sorted_stream(stream1, stream2):\n",
    "    print(x)"
   ]
  },
  {
   "cell_type": "markdown",
   "metadata": {},
   "source": [
    "## 2. Tree Traversal"
   ]
  },
  {
   "cell_type": "code",
   "execution_count": 24,
   "metadata": {},
   "outputs": [],
   "source": [
    "class TreeNode:\n",
    "    \n",
    "    # Three ways of Depth First Traversals\n",
    " \n",
    "    def __init__(self, val):\n",
    "        self.val = str(val)    # use str here to enable output format\n",
    "        self.left = None\n",
    "        self.right = None\n",
    "    \n",
    "    def in_order(self):\n",
    "        if self.left:\n",
    "            yield from self.left.in_order()     # yield from, can do yield for callable target\n",
    "        yield self.val\n",
    "        if self.right:\n",
    "            yield from self.right.in_order()\n",
    "    \n",
    "    def pre_order(self):\n",
    "        yield self.val\n",
    "        if self.left:\n",
    "            yield from self.left.in_order()\n",
    "        if self.right:\n",
    "            yield from self.right.in_order()\n",
    "    \n",
    "    def post_order(self):\n",
    "        if self.left:\n",
    "            yield from self.left.in_order()\n",
    "        if self.right:\n",
    "            yield from self.right.in_order()\n",
    "        yield self.val"
   ]
  },
  {
   "cell_type": "code",
   "execution_count": 26,
   "metadata": {},
   "outputs": [
    {
     "name": "stdout",
     "output_type": "stream",
     "text": [
      "4 -> 2 -> 5 -> 1 -> 3\n",
      "1 -> 4 -> 2 -> 5 -> 3\n",
      "4 -> 2 -> 5 -> 3 -> 1\n"
     ]
    }
   ],
   "source": [
    "root = TreeNode(1)\n",
    "root.left = TreeNode(2)\n",
    "root.right = TreeNode(3)\n",
    "root.left.left = TreeNode(4)\n",
    "root.left.right = TreeNode(5)\n",
    "\n",
    "print(' -> '.join(item for item in root.in_order()))\n",
    "print(' -> '.join(item for item in root.pre_order()))\n",
    "print(' -> '.join(item for item in root.post_order()))"
   ]
  },
  {
   "cell_type": "markdown",
   "metadata": {},
   "source": [
    "## 3.  Implement a Timer"
   ]
  },
  {
   "cell_type": "code",
   "execution_count": 29,
   "metadata": {},
   "outputs": [],
   "source": [
    "import time\n",
    "\n",
    "class timer:\n",
    "    def __enter__(self):\n",
    "        self.start_time = time.time()\n",
    "        return self\n",
    "\n",
    "    def __call__(self, func):\n",
    "        def inner(input):\n",
    "            self.start_time = time.time()\n",
    "            func(input)\n",
    "            self.end_time = time.time()\n",
    "            print(f\"--- {self.end_time - self.start_time} seconds ---\")\n",
    "        return inner\n",
    "    \n",
    "    def __exit__(self,*args):\n",
    "        self.end_time = time.time()\n",
    "        print(f\"--- {self.end_time - self.start_time} seconds ---\")\n",
    "        return True"
   ]
  },
  {
   "cell_type": "code",
   "execution_count": 30,
   "metadata": {},
   "outputs": [
    {
     "name": "stdout",
     "output_type": "stream",
     "text": [
      "--- 3.009356737136841 seconds ---\n",
      "--- 3.0120935440063477 seconds ---\n"
     ]
    }
   ],
   "source": [
    "with timer() as timer:\n",
    "    time.sleep(3)\n",
    "    \n",
    "@timer\n",
    "def sleep(secs):\n",
    "    time.sleep(secs)\n",
    "    \n",
    "sleep(3)"
   ]
  }
 ],
 "metadata": {
  "kernelspec": {
   "display_name": "Python 3",
   "language": "python",
   "name": "python3"
  },
  "language_info": {
   "codemirror_mode": {
    "name": "ipython",
    "version": 3
   },
   "file_extension": ".py",
   "mimetype": "text/x-python",
   "name": "python",
   "nbconvert_exporter": "python",
   "pygments_lexer": "ipython3",
   "version": "3.7.6"
  }
 },
 "nbformat": 4,
 "nbformat_minor": 2
}
