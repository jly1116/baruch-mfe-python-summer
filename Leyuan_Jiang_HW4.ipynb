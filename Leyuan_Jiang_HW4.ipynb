{
 "cells": [
  {
   "cell_type": "code",
   "execution_count": 41,
   "metadata": {},
   "outputs": [],
   "source": [
    "import numpy as np\n",
    "import pandas as pd\n",
    "import matplotlib.pyplot as plt"
   ]
  },
  {
   "cell_type": "markdown",
   "metadata": {},
   "source": [
    "## Problem 1 "
   ]
  },
  {
   "cell_type": "code",
   "execution_count": 13,
   "metadata": {
    "scrolled": true
   },
   "outputs": [
    {
     "data": {
      "text/html": [
       "<div>\n",
       "<style scoped>\n",
       "    .dataframe tbody tr th:only-of-type {\n",
       "        vertical-align: middle;\n",
       "    }\n",
       "\n",
       "    .dataframe tbody tr th {\n",
       "        vertical-align: top;\n",
       "    }\n",
       "\n",
       "    .dataframe thead th {\n",
       "        text-align: right;\n",
       "    }\n",
       "</style>\n",
       "<table border=\"1\" class=\"dataframe\">\n",
       "  <thead>\n",
       "    <tr style=\"text-align: right;\">\n",
       "      <th></th>\n",
       "      <th>sic</th>\n",
       "      <th>datacqtr</th>\n",
       "      <th>cusip</th>\n",
       "      <th>cshoq</th>\n",
       "      <th>saleq</th>\n",
       "      <th>prccq</th>\n",
       "    </tr>\n",
       "  </thead>\n",
       "  <tbody>\n",
       "    <tr>\n",
       "      <th>0</th>\n",
       "      <td>3089.0</td>\n",
       "      <td>1966Q1</td>\n",
       "      <td>000032102</td>\n",
       "      <td>0.219</td>\n",
       "      <td>NaN</td>\n",
       "      <td>NaN</td>\n",
       "    </tr>\n",
       "    <tr>\n",
       "      <th>1</th>\n",
       "      <td>3089.0</td>\n",
       "      <td>1966Q2</td>\n",
       "      <td>000032102</td>\n",
       "      <td>0.219</td>\n",
       "      <td>NaN</td>\n",
       "      <td>NaN</td>\n",
       "    </tr>\n",
       "    <tr>\n",
       "      <th>2</th>\n",
       "      <td>3089.0</td>\n",
       "      <td>1966Q3</td>\n",
       "      <td>000032102</td>\n",
       "      <td>0.219</td>\n",
       "      <td>NaN</td>\n",
       "      <td>NaN</td>\n",
       "    </tr>\n",
       "    <tr>\n",
       "      <th>3</th>\n",
       "      <td>3089.0</td>\n",
       "      <td>1966Q4</td>\n",
       "      <td>000032102</td>\n",
       "      <td>0.219</td>\n",
       "      <td>4.032</td>\n",
       "      <td>NaN</td>\n",
       "    </tr>\n",
       "    <tr>\n",
       "      <th>4</th>\n",
       "      <td>3089.0</td>\n",
       "      <td>1967Q1</td>\n",
       "      <td>000032102</td>\n",
       "      <td>0.277</td>\n",
       "      <td>NaN</td>\n",
       "      <td>NaN</td>\n",
       "    </tr>\n",
       "  </tbody>\n",
       "</table>\n",
       "</div>"
      ],
      "text/plain": [
       "      sic datacqtr      cusip  cshoq  saleq  prccq\n",
       "0  3089.0   1966Q1  000032102  0.219    NaN    NaN\n",
       "1  3089.0   1966Q2  000032102  0.219    NaN    NaN\n",
       "2  3089.0   1966Q3  000032102  0.219    NaN    NaN\n",
       "3  3089.0   1966Q4  000032102  0.219  4.032    NaN\n",
       "4  3089.0   1967Q1  000032102  0.277    NaN    NaN"
      ]
     },
     "execution_count": 13,
     "metadata": {},
     "output_type": "execute_result"
    }
   ],
   "source": [
    "import pandas as pd\n",
    "#path = 'C:\\Users\\Leyuan Jiang\\Desktop\\compustat.zip'   no need, just put file in the same folder\n",
    "data = pd.read_csv('compustat.zip')\n",
    "colname = [\"sic\",\"datacqtr\",\"cusip\",\"cshoq\",\"saleq\",\"prccq\"]\n",
    "data = data[colname]\n",
    "data.head()"
   ]
  },
  {
   "cell_type": "code",
   "execution_count": 26,
   "metadata": {},
   "outputs": [
    {
     "data": {
      "text/html": [
       "<div>\n",
       "<style scoped>\n",
       "    .dataframe tbody tr th:only-of-type {\n",
       "        vertical-align: middle;\n",
       "    }\n",
       "\n",
       "    .dataframe tbody tr th {\n",
       "        vertical-align: top;\n",
       "    }\n",
       "\n",
       "    .dataframe thead th {\n",
       "        text-align: right;\n",
       "    }\n",
       "</style>\n",
       "<table border=\"1\" class=\"dataframe\">\n",
       "  <thead>\n",
       "    <tr style=\"text-align: right;\">\n",
       "      <th></th>\n",
       "      <th>sic</th>\n",
       "      <th>datacqtr</th>\n",
       "      <th>cusip</th>\n",
       "      <th>cshoq</th>\n",
       "      <th>saleq</th>\n",
       "      <th>prccq</th>\n",
       "      <th>market cap</th>\n",
       "    </tr>\n",
       "  </thead>\n",
       "  <tbody>\n",
       "    <tr>\n",
       "      <th>0</th>\n",
       "      <td>3089.0</td>\n",
       "      <td>1966Q1</td>\n",
       "      <td>000032102</td>\n",
       "      <td>0.219</td>\n",
       "      <td>NaN</td>\n",
       "      <td>NaN</td>\n",
       "      <td>NaN</td>\n",
       "    </tr>\n",
       "    <tr>\n",
       "      <th>1</th>\n",
       "      <td>3089.0</td>\n",
       "      <td>1966Q2</td>\n",
       "      <td>000032102</td>\n",
       "      <td>0.219</td>\n",
       "      <td>NaN</td>\n",
       "      <td>NaN</td>\n",
       "      <td>NaN</td>\n",
       "    </tr>\n",
       "    <tr>\n",
       "      <th>2</th>\n",
       "      <td>3089.0</td>\n",
       "      <td>1966Q3</td>\n",
       "      <td>000032102</td>\n",
       "      <td>0.219</td>\n",
       "      <td>NaN</td>\n",
       "      <td>NaN</td>\n",
       "      <td>NaN</td>\n",
       "    </tr>\n",
       "    <tr>\n",
       "      <th>3</th>\n",
       "      <td>3089.0</td>\n",
       "      <td>1966Q4</td>\n",
       "      <td>000032102</td>\n",
       "      <td>0.219</td>\n",
       "      <td>4.032</td>\n",
       "      <td>NaN</td>\n",
       "      <td>NaN</td>\n",
       "    </tr>\n",
       "    <tr>\n",
       "      <th>4</th>\n",
       "      <td>3089.0</td>\n",
       "      <td>1967Q1</td>\n",
       "      <td>000032102</td>\n",
       "      <td>0.277</td>\n",
       "      <td>NaN</td>\n",
       "      <td>NaN</td>\n",
       "      <td>NaN</td>\n",
       "    </tr>\n",
       "  </tbody>\n",
       "</table>\n",
       "</div>"
      ],
      "text/plain": [
       "      sic datacqtr      cusip  cshoq  saleq  prccq  market cap\n",
       "0  3089.0   1966Q1  000032102  0.219    NaN    NaN         NaN\n",
       "1  3089.0   1966Q2  000032102  0.219    NaN    NaN         NaN\n",
       "2  3089.0   1966Q3  000032102  0.219    NaN    NaN         NaN\n",
       "3  3089.0   1966Q4  000032102  0.219  4.032    NaN         NaN\n",
       "4  3089.0   1967Q1  000032102  0.277    NaN    NaN         NaN"
      ]
     },
     "execution_count": 26,
     "metadata": {},
     "output_type": "execute_result"
    }
   ],
   "source": [
    "data['market cap'] = data['cshoq'] * data['prccq']\n",
    "data.head()"
   ]
  },
  {
   "cell_type": "markdown",
   "metadata": {},
   "source": [
    "For saleq and market cap, compute the following:\n",
    "Time series mean；Time Series standard deviation；Time Series count of missing values；Time Series ratio of missing values\n",
    "Aggregate the result in a dataframe"
   ]
  },
  {
   "cell_type": "code",
   "execution_count": 29,
   "metadata": {},
   "outputs": [],
   "source": [
    "saleq_mean = data[\"saleq\"].dropna().mean()\n",
    "mktcap_mean = data[\"market cap\"].dropna().mean()\n",
    "saleq_std = data[\"saleq\"].dropna().std()\n",
    "mktcap_std = data[\"market cap\"].dropna().std()\n",
    "saleq_nan = data[\"saleq\"].isna().sum()\n",
    "mktcap_nan = data[\"market cap\"].isna().sum()\n",
    "saleq_miss_ratio = saleq_nan/data.shape[0]\n",
    "mktcap_miss_ratio = mktcap_nan/data.shape[0]"
   ]
  },
  {
   "cell_type": "code",
   "execution_count": 37,
   "metadata": {},
   "outputs": [
    {
     "data": {
      "text/html": [
       "<div>\n",
       "<style scoped>\n",
       "    .dataframe tbody tr th:only-of-type {\n",
       "        vertical-align: middle;\n",
       "    }\n",
       "\n",
       "    .dataframe tbody tr th {\n",
       "        vertical-align: top;\n",
       "    }\n",
       "\n",
       "    .dataframe thead th {\n",
       "        text-align: right;\n",
       "    }\n",
       "</style>\n",
       "<table border=\"1\" class=\"dataframe\">\n",
       "  <thead>\n",
       "    <tr style=\"text-align: right;\">\n",
       "      <th></th>\n",
       "      <th>saleq</th>\n",
       "      <th>mktcap</th>\n",
       "    </tr>\n",
       "  </thead>\n",
       "  <tbody>\n",
       "    <tr>\n",
       "      <th>mean</th>\n",
       "      <td>445.150664</td>\n",
       "      <td>2057.473104</td>\n",
       "    </tr>\n",
       "    <tr>\n",
       "      <th>std</th>\n",
       "      <td>2679.706576</td>\n",
       "      <td>13202.197457</td>\n",
       "    </tr>\n",
       "    <tr>\n",
       "      <th>number of missing value</th>\n",
       "      <td>269498.000000</td>\n",
       "      <td>468276.000000</td>\n",
       "    </tr>\n",
       "    <tr>\n",
       "      <th>ratio of missing value</th>\n",
       "      <td>0.148787</td>\n",
       "      <td>0.258530</td>\n",
       "    </tr>\n",
       "  </tbody>\n",
       "</table>\n",
       "</div>"
      ],
      "text/plain": [
       "                                 saleq         mktcap\n",
       "mean                        445.150664    2057.473104\n",
       "std                        2679.706576   13202.197457\n",
       "number of missing value  269498.000000  468276.000000\n",
       "ratio of missing value        0.148787       0.258530"
      ]
     },
     "execution_count": 37,
     "metadata": {},
     "output_type": "execute_result"
    }
   ],
   "source": [
    "result = pd.DataFrame(data=[[saleq_mean, mktcap_mean],[saleq_std, mktcap_std],[saleq_nan, mktcap_nan],[saleq_miss_ratio, mktcap_miss_ratio]],\n",
    "                  index=[\"mean\",\"std\",\"number of missing value\",\"ratio of missing value\"],columns=[\"saleq\",\"mktcap\"])\n",
    "# we can also use pivot-table here 数据透视表\n",
    "# sales = data.pivot_table(values=[\"saleq\"], index=[\"datacqtr\"], columns=[\"sic\"])\n",
    "result"
   ]
  },
  {
   "cell_type": "markdown",
   "metadata": {},
   "source": [
    "We can see from the table above that the standard deviation for both variables are extremely large. This may imply that there are outliers for both of them. Next, we try to detect outliers."
   ]
  },
  {
   "cell_type": "code",
   "execution_count": 39,
   "metadata": {
    "scrolled": false
   },
   "outputs": [
    {
     "data": {
      "text/plain": [
       "<matplotlib.axes._subplots.AxesSubplot at 0x200315b42c8>"
      ]
     },
     "metadata": {},
     "output_type": "display_data"
    },
    {
     "data": {
      "image/png": "[encoded data removed]",
      "text/plain": [
       "<Figure size 432x288 with 1 Axes>"
      ]
     },
     "metadata": {
      "needs_background": "light"
     },
     "output_type": "display_data"
    }
   ],
   "source": [
    "display(data[\"saleq\"].hist())"
   ]
  },
  {
   "cell_type": "markdown",
   "metadata": {},
   "source": [
    "From histogram, there are several values that are extremely large. "
   ]
  },
  {
   "cell_type": "code",
   "execution_count": 40,
   "metadata": {},
   "outputs": [
    {
     "data": {
      "text/plain": [
       "count    1.541801e+06\n",
       "mean     4.451507e+02\n",
       "std      2.679707e+03\n",
       "min     -2.562300e+04\n",
       "25%      3.210000e+00\n",
       "50%      2.182500e+01\n",
       "75%      1.305300e+02\n",
       "max      2.073073e+05\n",
       "Name: saleq, dtype: float64"
      ]
     },
     "execution_count": 40,
     "metadata": {},
     "output_type": "execute_result"
    }
   ],
   "source": [
    "data[\"saleq\"].describe()"
   ]
  },
  {
   "cell_type": "markdown",
   "metadata": {},
   "source": [
    "The maximum number is way much larger than 75% quantile number. There exist some extreme large numbers in sales. This can also be illustrated by the boxplot below."
   ]
  },
  {
   "cell_type": "code",
   "execution_count": 42,
   "metadata": {},
   "outputs": [
    {
     "data": {
      "text/plain": [
       "<matplotlib.axes._subplots.AxesSubplot at 0x2003163c708>"
      ]
     },
     "execution_count": 42,
     "metadata": {},
     "output_type": "execute_result"
    },
    {
     "data": {
      "image/png": "[encoded data removed]",
      "text/plain": [
       "<Figure size 432x288 with 1 Axes>"
      ]
     },
     "metadata": {
      "needs_background": "light"
     },
     "output_type": "display_data"
    }
   ],
   "source": [
    "data[\"saleq\"].plot.box()"
   ]
  },
  {
   "cell_type": "code",
   "execution_count": 43,
   "metadata": {},
   "outputs": [
    {
     "data": {
      "text/plain": [
       "<matplotlib.axes._subplots.AxesSubplot at 0x2003168dcc8>"
      ]
     },
     "execution_count": 43,
     "metadata": {},
     "output_type": "execute_result"
    },
    {
     "data": {
      "image/png": "[encoded data removed]",
      "text/plain": [
       "<Figure size 432x288 with 1 Axes>"
      ]
     },
     "metadata": {
      "needs_background": "light"
     },
     "output_type": "display_data"
    }
   ],
   "source": [
    "data[\"market cap\"].plot.box()\n",
    "# other ways to detect outliers: Z score, tukey method"
   ]
  },
  {
   "cell_type": "markdown",
   "metadata": {},
   "source": [
    "We can conclude from above that both saleq and market cap have several outliers. Those are large values, even 100+ times larger than mean values. This might due to the existence of mega-firms, which are extremely big corporations. Their market cap are far away from normal firms. Also, the fluctuation in global economy and crisis like the one in 2008 can cause extreme changes in saleq data."
   ]
  },
  {
   "cell_type": "markdown",
   "metadata": {},
   "source": [
    "## Problem 2"
   ]
  },
  {
   "cell_type": "markdown",
   "metadata": {},
   "source": [
    "Using the same data in question 1. Compute a panel data for HHI index for all industry, using a 2 digit SIC code.\n",
    "\n",
    "Choose top 4 industry with the highest average HHI index, plot their time series pattern of HHI in a 2 by 2 figure."
   ]
  },
  {
   "cell_type": "code",
   "execution_count": 49,
   "metadata": {},
   "outputs": [
    {
     "data": {
      "text/html": [
       "<div>\n",
       "<style scoped>\n",
       "    .dataframe tbody tr th:only-of-type {\n",
       "        vertical-align: middle;\n",
       "    }\n",
       "\n",
       "    .dataframe tbody tr th {\n",
       "        vertical-align: top;\n",
       "    }\n",
       "\n",
       "    .dataframe thead th {\n",
       "        text-align: right;\n",
       "    }\n",
       "</style>\n",
       "<table border=\"1\" class=\"dataframe\">\n",
       "  <thead>\n",
       "    <tr style=\"text-align: right;\">\n",
       "      <th></th>\n",
       "      <th>2d-sic</th>\n",
       "      <th>datacqtr</th>\n",
       "      <th>market cap</th>\n",
       "    </tr>\n",
       "  </thead>\n",
       "  <tbody>\n",
       "    <tr>\n",
       "      <th>0</th>\n",
       "      <td>1.00</td>\n",
       "      <td>1967Q4</td>\n",
       "      <td>65.205000</td>\n",
       "    </tr>\n",
       "    <tr>\n",
       "      <th>1</th>\n",
       "      <td>1.00</td>\n",
       "      <td>1968Q1</td>\n",
       "      <td>62.617500</td>\n",
       "    </tr>\n",
       "    <tr>\n",
       "      <th>2</th>\n",
       "      <td>1.00</td>\n",
       "      <td>1968Q2</td>\n",
       "      <td>109.295875</td>\n",
       "    </tr>\n",
       "    <tr>\n",
       "      <th>3</th>\n",
       "      <td>1.00</td>\n",
       "      <td>1968Q3</td>\n",
       "      <td>119.726905</td>\n",
       "    </tr>\n",
       "    <tr>\n",
       "      <th>4</th>\n",
       "      <td>1.00</td>\n",
       "      <td>1968Q4</td>\n",
       "      <td>211.665500</td>\n",
       "    </tr>\n",
       "    <tr>\n",
       "      <th>...</th>\n",
       "      <td>...</td>\n",
       "      <td>...</td>\n",
       "      <td>...</td>\n",
       "    </tr>\n",
       "    <tr>\n",
       "      <th>85848</th>\n",
       "      <td>99.98</td>\n",
       "      <td>2010Q4</td>\n",
       "      <td>16.803540</td>\n",
       "    </tr>\n",
       "    <tr>\n",
       "      <th>85849</th>\n",
       "      <td>99.98</td>\n",
       "      <td>2011Q1</td>\n",
       "      <td>18.111600</td>\n",
       "    </tr>\n",
       "    <tr>\n",
       "      <th>85850</th>\n",
       "      <td>99.98</td>\n",
       "      <td>2011Q2</td>\n",
       "      <td>20.124000</td>\n",
       "    </tr>\n",
       "    <tr>\n",
       "      <th>85851</th>\n",
       "      <td>99.98</td>\n",
       "      <td>2011Q3</td>\n",
       "      <td>19.620900</td>\n",
       "    </tr>\n",
       "    <tr>\n",
       "      <th>85852</th>\n",
       "      <td>99.98</td>\n",
       "      <td>2011Q4</td>\n",
       "      <td>20.124000</td>\n",
       "    </tr>\n",
       "  </tbody>\n",
       "</table>\n",
       "<p>85853 rows × 3 columns</p>\n",
       "</div>"
      ],
      "text/plain": [
       "       2d-sic datacqtr  market cap\n",
       "0        1.00   1967Q4   65.205000\n",
       "1        1.00   1968Q1   62.617500\n",
       "2        1.00   1968Q2  109.295875\n",
       "3        1.00   1968Q3  119.726905\n",
       "4        1.00   1968Q4  211.665500\n",
       "...       ...      ...         ...\n",
       "85848   99.98   2010Q4   16.803540\n",
       "85849   99.98   2011Q1   18.111600\n",
       "85850   99.98   2011Q2   20.124000\n",
       "85851   99.98   2011Q3   19.620900\n",
       "85852   99.98   2011Q4   20.124000\n",
       "\n",
       "[85853 rows x 3 columns]"
      ]
     },
     "execution_count": 49,
     "metadata": {},
     "output_type": "execute_result"
    }
   ],
   "source": [
    "df_HHI = pd.DataFrame(data,columns=[\"sic\",\"datacqtr\",\"market cap\"]).dropna()\n",
    "df_HHI[\"2d-sic\"] = df_HHI[\"sic\"]/100   # just take 2 digits\n",
    "\n",
    "industry_cap = df_HHI.groupby([\"2d-sic\",\"datacqtr\"])[\"market cap\"].sum().reset_index()\n",
    "industry_cap"
   ]
  },
  {
   "cell_type": "code",
   "execution_count": 51,
   "metadata": {},
   "outputs": [
    {
     "data": {
      "text/html": [
       "<div>\n",
       "<style scoped>\n",
       "    .dataframe tbody tr th:only-of-type {\n",
       "        vertical-align: middle;\n",
       "    }\n",
       "\n",
       "    .dataframe tbody tr th {\n",
       "        vertical-align: top;\n",
       "    }\n",
       "\n",
       "    .dataframe thead th {\n",
       "        text-align: right;\n",
       "    }\n",
       "</style>\n",
       "<table border=\"1\" class=\"dataframe\">\n",
       "  <thead>\n",
       "    <tr style=\"text-align: right;\">\n",
       "      <th></th>\n",
       "      <th>sic</th>\n",
       "      <th>datacqtr</th>\n",
       "      <th>market cap_x</th>\n",
       "      <th>2d-sic</th>\n",
       "      <th>market cap_y</th>\n",
       "      <th>market cap</th>\n",
       "    </tr>\n",
       "  </thead>\n",
       "  <tbody>\n",
       "    <tr>\n",
       "      <th>0</th>\n",
       "      <td>3089.0</td>\n",
       "      <td>1970Q3</td>\n",
       "      <td>26.20250</td>\n",
       "      <td>30.89</td>\n",
       "      <td>950.45125</td>\n",
       "      <td>950.45125</td>\n",
       "    </tr>\n",
       "    <tr>\n",
       "      <th>1</th>\n",
       "      <td>3089.0</td>\n",
       "      <td>1970Q3</td>\n",
       "      <td>37.07050</td>\n",
       "      <td>30.89</td>\n",
       "      <td>950.45125</td>\n",
       "      <td>950.45125</td>\n",
       "    </tr>\n",
       "    <tr>\n",
       "      <th>2</th>\n",
       "      <td>3089.0</td>\n",
       "      <td>1970Q3</td>\n",
       "      <td>719.52750</td>\n",
       "      <td>30.89</td>\n",
       "      <td>950.45125</td>\n",
       "      <td>950.45125</td>\n",
       "    </tr>\n",
       "    <tr>\n",
       "      <th>3</th>\n",
       "      <td>3089.0</td>\n",
       "      <td>1970Q3</td>\n",
       "      <td>8.28000</td>\n",
       "      <td>30.89</td>\n",
       "      <td>950.45125</td>\n",
       "      <td>950.45125</td>\n",
       "    </tr>\n",
       "    <tr>\n",
       "      <th>4</th>\n",
       "      <td>3089.0</td>\n",
       "      <td>1970Q3</td>\n",
       "      <td>36.18000</td>\n",
       "      <td>30.89</td>\n",
       "      <td>950.45125</td>\n",
       "      <td>950.45125</td>\n",
       "    </tr>\n",
       "    <tr>\n",
       "      <th>...</th>\n",
       "      <td>...</td>\n",
       "      <td>...</td>\n",
       "      <td>...</td>\n",
       "      <td>...</td>\n",
       "      <td>...</td>\n",
       "      <td>...</td>\n",
       "    </tr>\n",
       "    <tr>\n",
       "      <th>1341701</th>\n",
       "      <td>900.0</td>\n",
       "      <td>2005Q4</td>\n",
       "      <td>17.78355</td>\n",
       "      <td>9.00</td>\n",
       "      <td>17.78355</td>\n",
       "      <td>17.78355</td>\n",
       "    </tr>\n",
       "    <tr>\n",
       "      <th>1341702</th>\n",
       "      <td>900.0</td>\n",
       "      <td>2006Q2</td>\n",
       "      <td>21.52225</td>\n",
       "      <td>9.00</td>\n",
       "      <td>21.52225</td>\n",
       "      <td>21.52225</td>\n",
       "    </tr>\n",
       "    <tr>\n",
       "      <th>1341703</th>\n",
       "      <td>900.0</td>\n",
       "      <td>2006Q4</td>\n",
       "      <td>31.71570</td>\n",
       "      <td>9.00</td>\n",
       "      <td>31.71570</td>\n",
       "      <td>31.71570</td>\n",
       "    </tr>\n",
       "    <tr>\n",
       "      <th>1341704</th>\n",
       "      <td>7359.0</td>\n",
       "      <td>2020Q2</td>\n",
       "      <td>2085.41088</td>\n",
       "      <td>73.59</td>\n",
       "      <td>2085.41088</td>\n",
       "      <td>2085.41088</td>\n",
       "    </tr>\n",
       "    <tr>\n",
       "      <th>1341705</th>\n",
       "      <td>4412.0</td>\n",
       "      <td>2020Q2</td>\n",
       "      <td>28.02497</td>\n",
       "      <td>44.12</td>\n",
       "      <td>28.02497</td>\n",
       "      <td>28.02497</td>\n",
       "    </tr>\n",
       "  </tbody>\n",
       "</table>\n",
       "<p>1341706 rows × 6 columns</p>\n",
       "</div>"
      ],
      "text/plain": [
       "            sic datacqtr  market cap_x  2d-sic  market cap_y  market cap\n",
       "0        3089.0   1970Q3      26.20250   30.89     950.45125   950.45125\n",
       "1        3089.0   1970Q3      37.07050   30.89     950.45125   950.45125\n",
       "2        3089.0   1970Q3     719.52750   30.89     950.45125   950.45125\n",
       "3        3089.0   1970Q3       8.28000   30.89     950.45125   950.45125\n",
       "4        3089.0   1970Q3      36.18000   30.89     950.45125   950.45125\n",
       "...         ...      ...           ...     ...           ...         ...\n",
       "1341701   900.0   2005Q4      17.78355    9.00      17.78355    17.78355\n",
       "1341702   900.0   2006Q2      21.52225    9.00      21.52225    21.52225\n",
       "1341703   900.0   2006Q4      31.71570    9.00      31.71570    31.71570\n",
       "1341704  7359.0   2020Q2    2085.41088   73.59    2085.41088  2085.41088\n",
       "1341705  4412.0   2020Q2      28.02497   44.12      28.02497    28.02497\n",
       "\n",
       "[1341706 rows x 6 columns]"
      ]
     },
     "execution_count": 51,
     "metadata": {},
     "output_type": "execute_result"
    }
   ],
   "source": [
    "df_HHI = pd.merge(df_HHI,industry_cap,on=[\"2d-sic\",\"datacqtr\"])\n",
    "# will generate market cap_x and market cap_y, the first is for company, second is for industry\n",
    "df_HHI"
   ]
  },
  {
   "cell_type": "code",
   "execution_count": 52,
   "metadata": {},
   "outputs": [
    {
     "data": {
      "text/plain": [
       "datacqtr  2d-sic\n",
       "1962Q1    45.12     10000.000000\n",
       "          60.20       564.058299\n",
       "1962Q2    40.11      3013.961261\n",
       "          45.12     10000.000000\n",
       "          60.20       543.295514\n",
       "Name: HHI, dtype: float64"
      ]
     },
     "execution_count": 52,
     "metadata": {},
     "output_type": "execute_result"
    }
   ],
   "source": [
    "# Calculate HHI\n",
    "df_HHI[\"HHI\"] = (df_HHI['market cap_x']/df_HHI[\"market cap_y\"]*100)**2\n",
    "industry_HHI = df_HHI.groupby([\"datacqtr\",\"2d-sic\"])[\"HHI\"].sum()\n",
    "industry_HHI.head()"
   ]
  },
  {
   "cell_type": "code",
   "execution_count": 54,
   "metadata": {},
   "outputs": [
    {
     "data": {
      "text/plain": [
       "2d-sic\n",
       "34.51    9984.447643\n",
       "40.13    9843.342743\n",
       "27.32    9631.589490\n",
       "37.20    9415.444759\n",
       "81.11    9362.460875\n",
       "Name: HHI, dtype: float64"
      ]
     },
     "execution_count": 54,
     "metadata": {},
     "output_type": "execute_result"
    }
   ],
   "source": [
    "industry_HHI_mean = industry_HHI.groupby([\"2d-sic\"]).mean() # calculate mean for all periods\n",
    "industry_HHI_mean = industry_HHI_mean[industry_HHI_mean<10000].sort_values(ascending=False)  \n",
    "# notice that some HHI are 10000 all the time, meaning there is only 1 company in the industry all the time. we donot want them \n",
    "industry_HHI_mean.head()"
   ]
  },
  {
   "cell_type": "code",
   "execution_count": 64,
   "metadata": {
    "scrolled": true
   },
   "outputs": [
    {
     "data": {
      "text/plain": [
       "Text(0.5, 1.0, 'HHI of industry 37.20')"
      ]
     },
     "execution_count": 64,
     "metadata": {},
     "output_type": "execute_result"
    },
    {
     "data": {
      "image/png": "[encoded data removed]",
      "text/plain": [
       "<Figure size 1440x1080 with 4 Axes>"
      ]
     },
     "metadata": {
      "needs_background": "light"
     },
     "output_type": "display_data"
    }
   ],
   "source": [
    "HHI_pd = pd.DataFrame(industry_HHI) # contains time series data of industry HHI\n",
    "HHI_pd.reset_index(inplace=True)\n",
    "\n",
    "index_3451 = HHI_pd[HHI_pd[\"2d-sic\"]==34.51]\n",
    "index_4013 = HHI_pd[HHI_pd[\"2d-sic\"]==40.13]\n",
    "index_2732 = HHI_pd[HHI_pd[\"2d-sic\"]==27.32]\n",
    "index_3720 = HHI_pd[HHI_pd[\"2d-sic\"]==37.20]\n",
    "\n",
    "# plot a 2*2 figure\n",
    "plt.figure(figsize=(20,15))\n",
    "ax1 = plt.subplot(2,2,1)\n",
    "plt.plot(index_3451.index,index_3451[\"HHI\"])\n",
    "plt.title(\"HHI of industry 34.51\")\n",
    "\n",
    "ax2 = plt.subplot(2,2,2)\n",
    "plt.plot(index_4013.index,index_4013[\"HHI\"])\n",
    "plt.title(\"HHI of industry 40.13\")\n",
    "\n",
    "ax3 = plt.subplot(2,2,3)\n",
    "plt.plot(index_2732.index,index_2732[\"HHI\"])\n",
    "plt.title(\"HHI of industry 27.32\")\n",
    "\n",
    "ax4 = plt.subplot(2,2,4)\n",
    "plt.plot(index_3720.index,index_3720[\"HHI\"])\n",
    "plt.title(\"HHI of industry 37.20\")\n"
   ]
  },
  {
   "cell_type": "code",
   "execution_count": null,
   "metadata": {},
   "outputs": [],
   "source": []
  },
  {
   "cell_type": "code",
   "execution_count": null,
   "metadata": {},
   "outputs": [],
   "source": []
  }
 ],
 "metadata": {
  "kernelspec": {
   "display_name": "Python 3",
   "language": "python",
   "name": "python3"
  },
  "language_info": {
   "codemirror_mode": {
    "name": "ipython",
    "version": 3
   },
   "file_extension": ".py",
   "mimetype": "text/x-python",
   "name": "python",
   "nbconvert_exporter": "python",
   "pygments_lexer": "ipython3",
   "version": "3.7.6"
  }
 },
 "nbformat": 4,
 "nbformat_minor": 2
}
