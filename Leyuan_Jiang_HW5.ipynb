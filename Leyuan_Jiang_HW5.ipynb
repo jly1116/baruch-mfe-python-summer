{
 "cells": [
  {
   "cell_type": "markdown",
   "metadata": {},
   "source": [
    "## Question 1 "
   ]
  },
  {
   "cell_type": "markdown",
   "metadata": {},
   "source": [
    "Find the kth largest element in an unsorted array. Note that it is the kth largest element in the sorted order, not the kth distinct element."
   ]
  },
  {
   "cell_type": "code",
   "execution_count": 3,
   "metadata": {},
   "outputs": [],
   "source": [
    "import heapq"
   ]
  },
  {
   "cell_type": "code",
   "execution_count": 20,
   "metadata": {},
   "outputs": [],
   "source": [
    "def FindKlargest(nums,k):\n",
    "    neg_list = [-i for i in nums]     # default heapq is minimum heap, so we generate list with negative numbers first; o(n) complexity\n",
    "    heap = heapq.heapify(neg_list)     # o(n) complexity\n",
    "    for k in range(k-1):\n",
    "        heapq.heappop(neg_list)     # pop k-1 minimum values from min-heap; each heappop is o(logn)\n",
    "    return -heapq.heappop(neg_list)"
   ]
  },
  {
   "cell_type": "code",
   "execution_count": 24,
   "metadata": {},
   "outputs": [
    {
     "name": "stdout",
     "output_type": "stream",
     "text": [
      "5\n",
      "4\n",
      "8\n",
      "13\n"
     ]
    }
   ],
   "source": [
    "# we first test the two cases from examples\n",
    "test1 = [3,2,1,5,6,4]\n",
    "k1 = 2\n",
    "test2 =  [3,2,3,1,2,4,5,5,6] \n",
    "k2 = 4\n",
    "\n",
    "test3 = [9,9,8,7,7,7,5,3,1]  # descending list, with duplicate\n",
    "k3 = 3\n",
    "test4 = [1,1,1,3,10,13,15]   # ascending list, with duplicate\n",
    "k4 = 2\n",
    "\n",
    "print(FindKlargest(test1,k1))\n",
    "print(FindKlargest(test2,k2))\n",
    "print(FindKlargest(test3,k3))\n",
    "print(FindKlargest(test4,k4))\n"
   ]
  },
  {
   "cell_type": "markdown",
   "metadata": {},
   "source": [
    "Notice that in test case 2&3, the output shows that we want the kth largest in sorted order, but not distinct element.\n",
    "\n",
    "Otherwise, they should output 3 and 7 \n",
    "\n",
    "The time complexity should be o(2n + (k-1)logn). In the best case it's o(n) and in the worst case it's o(nlogn)."
   ]
  },
  {
   "cell_type": "markdown",
   "metadata": {},
   "source": [
    "## Question 2"
   ]
  },
  {
   "cell_type": "markdown",
   "metadata": {},
   "source": [
    "Using python data structure Queue, generate a queue that have 10000 elments. Then use 1, 5, 20 threads to pop out the elments out. Compare the efficiency when you use different number of threads and explain why you see the pattern of performance."
   ]
  },
  {
   "cell_type": "code",
   "execution_count": 7,
   "metadata": {},
   "outputs": [],
   "source": [
    "import threading\n",
    "from queue import Queue\n",
    "import time"
   ]
  },
  {
   "cell_type": "code",
   "execution_count": 8,
   "metadata": {},
   "outputs": [],
   "source": [
    "def get_queue():          # generate queue with 10000 elements\n",
    "    q = Queue()\n",
    "    for i in range(10000):\n",
    "        q.put(i)\n",
    "    return q"
   ]
  },
  {
   "cell_type": "code",
   "execution_count": 9,
   "metadata": {},
   "outputs": [],
   "source": [
    "def Thread_Func(queue_generator,k):\n",
    "    for i in range(k):\n",
    "        queue_generator.get()    # get task and remove it from queue, repeat k times"
   ]
  },
  {
   "cell_type": "code",
   "execution_count": 10,
   "metadata": {},
   "outputs": [],
   "source": [
    "def MultiThreadTest(queue_generator, threadnum):\n",
    "    threads = []\n",
    "    for i in range(threadnum):\n",
    "        thread = threading.Thread(target=Thread_Func, args=(queue_generator,int(10000/threadnum)))    # we ouput 10000 in total, so we divide them for each thread\n",
    "        threads.append(thread)\n",
    "        thread.start()\n",
    "    for thread in threads:      # start and join each thread\n",
    "        thread.join()"
   ]
  },
  {
   "cell_type": "code",
   "execution_count": 11,
   "metadata": {},
   "outputs": [
    {
     "name": "stdout",
     "output_type": "stream",
     "text": [
      "29.4 ms ± 401 µs per loop (mean ± std. dev. of 7 runs, 10 loops each)\n"
     ]
    }
   ],
   "source": [
    "%%timeit \n",
    "q = get_queue()\n",
    "MultiThreadTest(q, 1)"
   ]
  },
  {
   "cell_type": "code",
   "execution_count": 12,
   "metadata": {},
   "outputs": [
    {
     "name": "stdout",
     "output_type": "stream",
     "text": [
      "30.5 ms ± 651 µs per loop (mean ± std. dev. of 7 runs, 10 loops each)\n"
     ]
    }
   ],
   "source": [
    "%%timeit \n",
    "q = get_queue()\n",
    "MultiThreadTest(q, 5)"
   ]
  },
  {
   "cell_type": "code",
   "execution_count": 13,
   "metadata": {},
   "outputs": [
    {
     "name": "stdout",
     "output_type": "stream",
     "text": [
      "34.3 ms ± 240 µs per loop (mean ± std. dev. of 7 runs, 10 loops each)\n"
     ]
    }
   ],
   "source": [
    "%%timeit \n",
    "q = get_queue()\n",
    "MultiThreadTest(q, 20)"
   ]
  },
  {
   "cell_type": "markdown",
   "metadata": {},
   "source": [
    "We can see from above that the running time increased slightly when we use more threads.\n",
    "\n",
    "This matches what was told in our classes. Python is not a good language for multithreading because of the GIL. We cannot accelerate the program by just using more threads since they are blocked from each other."
   ]
  },
  {
   "cell_type": "code",
   "execution_count": null,
   "metadata": {},
   "outputs": [],
   "source": []
  }
 ],
 "metadata": {
  "kernelspec": {
   "display_name": "Python 3",
   "language": "python",
   "name": "python3"
  },
  "language_info": {
   "codemirror_mode": {
    "name": "ipython",
    "version": 3
   },
   "file_extension": ".py",
   "mimetype": "text/x-python",
   "name": "python",
   "nbconvert_exporter": "python",
   "pygments_lexer": "ipython3",
   "version": "3.7.6"
  }
 },
 "nbformat": 4,
 "nbformat_minor": 2
}
