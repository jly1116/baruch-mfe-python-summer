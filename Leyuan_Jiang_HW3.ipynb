{
 "cells": [
  {
   "cell_type": "markdown",
   "metadata": {},
   "source": [
    "## Homework 3 by Leyuan Jiang "
   ]
  },
  {
   "cell_type": "code",
   "execution_count": 1,
   "metadata": {},
   "outputs": [],
   "source": [
    "import numpy as np"
   ]
  },
  {
   "cell_type": "markdown",
   "metadata": {},
   "source": [
    "### 1. Read the code below and rewrite it using only numpy functions (without for loop, if-else statements). Benchmark your implementation. How much is it faster than the naive python implementation? (hint: use np.isin)"
   ]
  },
  {
   "cell_type": "code",
   "execution_count": 5,
   "metadata": {},
   "outputs": [],
   "source": [
    "def func1(names, db):\n",
    "    idx = []\n",
    "    for i in names:\n",
    "        if i in db:\n",
    "            idx.append(db.index(i))\n",
    "    return idx"
   ]
  },
  {
   "cell_type": "code",
   "execution_count": 6,
   "metadata": {},
   "outputs": [],
   "source": [
    "def func1_np(names,db):\n",
    "    idx = np.arange(len(db))\n",
    "    mask = np.isin(db,names)    # use mask array here, find if elements in db are in names too\n",
    "    return idx[mask]"
   ]
  },
  {
   "cell_type": "code",
   "execution_count": 7,
   "metadata": {
    "scrolled": true
   },
   "outputs": [
    {
     "name": "stdout",
     "output_type": "stream",
     "text": [
      "1.01 ms ± 6.13 µs per loop (mean ± std. dev. of 7 runs, 1000 loops each)\n",
      "257 µs ± 5.36 µs per loop (mean ± std. dev. of 7 runs, 1000 loops each)\n"
     ]
    }
   ],
   "source": [
    "names = range(1,10000)\n",
    "db = range(8000,12000)\n",
    "\n",
    "names_np = np.arange(1,10000)\n",
    "db_np = np.arange(8000,12000)\n",
    "\n",
    "%timeit func1(names, db)\n",
    "%timeit func1_np(names_np, db_np)\n"
   ]
  },
  {
   "cell_type": "code",
   "execution_count": null,
   "metadata": {},
   "outputs": [],
   "source": []
  },
  {
   "cell_type": "markdown",
   "metadata": {},
   "source": [
    "### 2. Use only numpy functions (without for loop, if-else statements) to find the largest 3 distances between points if either points is inside the circle of raidus r0. Then return these points. E.g."
   ]
  },
  {
   "cell_type": "code",
   "execution_count": 26,
   "metadata": {},
   "outputs": [],
   "source": [
    "def search_pairs(coordinates, r0):\n",
    "    pair_dists = np.linalg.norm(coordinates[:, np.newaxis, :]-coordinates, axis=2)      # calculate distance between the points\n",
    "    points_in_circle = np.linalg.norm(coordinates, axis=1) < r0              # get the mask whether the point is inside the circle\n",
    "    pair_dists[np.tril_indices(coordinates.shape[0])] = 0         # we only use upper triangle of distance matrix, otherwise duplicates\n",
    "    \n",
    "    mask = points_in_circle[: , np.newaxis] ^ points_in_circle\n",
    "    mask = np.tril(mask, k=1)                         # also compose upper triangle matrix to chose both points in circle r0\n",
    "    uniq_dists = pair_dists[mask]\n",
    "    uniq_indices = np.argwhere(mask)\n",
    "   \n",
    "    return uniq_indices[np.argpartition(uniq_dists, -3)[-3:]]      # use numpy.argpartition to return the largest 3 pairs "
   ]
  },
  {
   "cell_type": "code",
   "execution_count": 27,
   "metadata": {},
   "outputs": [],
   "source": [
    "coordinates = np.array(\n",
    "[[0.968, 0.313],\n",
    " [0.692, 0.876],\n",
    " [0.895, 0.085],\n",
    " [0.039, 0.17 ],\n",
    " [0.878, 0.098]]\n",
    ")\n",
    "\n",
    "cirle_r0 = 0.9"
   ]
  },
  {
   "cell_type": "code",
   "execution_count": 28,
   "metadata": {},
   "outputs": [
    {
     "data": {
      "text/plain": [
       "array([[2, 1],\n",
       "       [2, 0],\n",
       "       [1, 2]], dtype=int64)"
      ]
     },
     "execution_count": 28,
     "metadata": {},
     "output_type": "execute_result"
    }
   ],
   "source": [
    "search_pairs(coordinates, cirle_r0)"
   ]
  },
  {
   "cell_type": "code",
   "execution_count": null,
   "metadata": {},
   "outputs": [],
   "source": []
  }
 ],
 "metadata": {
  "kernelspec": {
   "display_name": "Python 3",
   "language": "python",
   "name": "python3"
  },
  "language_info": {
   "codemirror_mode": {
    "name": "ipython",
    "version": 3
   },
   "file_extension": ".py",
   "mimetype": "text/x-python",
   "name": "python",
   "nbconvert_exporter": "python",
   "pygments_lexer": "ipython3",
   "version": "3.7.6"
  }
 },
 "nbformat": 4,
 "nbformat_minor": 2
}
