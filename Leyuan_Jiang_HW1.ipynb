{
 "cells": [
  {
   "cell_type": "markdown",
   "metadata": {},
   "source": [
    "## Question 1.2 Write a Jupyter magic"
   ]
  },
  {
   "cell_type": "code",
   "execution_count": 2,
   "metadata": {},
   "outputs": [],
   "source": [
    "from IPython.core.magic import (register_line_magic, register_cell_magic,register_line_cell_magic)\n",
    "\n",
    "@register_line_cell_magic\n",
    "def countwords(line, cell=None):\n",
    "    \"Magic that works both as %countwords and as %%countwords\"\n",
    "    if cell is None:\n",
    "        return len(line.split())\n",
    "    else:\n",
    "        return len(line.split())+len(cell.split())"
   ]
  },
  {
   "cell_type": "code",
   "execution_count": 3,
   "metadata": {},
   "outputs": [
    {
     "data": {
      "text/plain": [
       "5"
      ]
     },
     "execution_count": 3,
     "metadata": {},
     "output_type": "execute_result"
    }
   ],
   "source": [
    "%countwords this is a line magic   "
   ]
  },
  {
   "cell_type": "code",
   "execution_count": 4,
   "metadata": {},
   "outputs": [
    {
     "data": {
      "text/plain": [
       "5"
      ]
     },
     "execution_count": 4,
     "metadata": {},
     "output_type": "execute_result"
    }
   ],
   "source": [
    "%%countwords       \n",
    "\n",
    "this is a magic\n",
    "cell"
   ]
  },
  {
   "cell_type": "markdown",
   "metadata": {},
   "source": [
    "## Question 1.3 speed of list comprehension and for loops"
   ]
  },
  {
   "cell_type": "code",
   "execution_count": 15,
   "metadata": {},
   "outputs": [
    {
     "name": "stdout",
     "output_type": "stream",
     "text": [
      "Wall time: 718 ms\n"
     ]
    }
   ],
   "source": [
    "# intial a list 创建list时候的差异\n",
    "%time list1 = [i for i in range(10000000)]"
   ]
  },
  {
   "cell_type": "code",
   "execution_count": 10,
   "metadata": {},
   "outputs": [
    {
     "name": "stdout",
     "output_type": "stream",
     "text": [
      "Wall time: 654 ms\n"
     ]
    }
   ],
   "source": [
    "%%time \n",
    "list1 = [i for i in range(10000000)]"
   ]
  },
  {
   "cell_type": "code",
   "execution_count": null,
   "metadata": {},
   "outputs": [],
   "source": [
    "# not much difference between %time and %%time"
   ]
  },
  {
   "cell_type": "code",
   "execution_count": 12,
   "metadata": {},
   "outputs": [
    {
     "name": "stdout",
     "output_type": "stream",
     "text": [
      "Wall time: 1.33 s\n"
     ]
    }
   ],
   "source": [
    "%%time\n",
    "list2 = []\n",
    "for i in range(10000000):\n",
    "    list2.append(i)"
   ]
  },
  {
   "cell_type": "code",
   "execution_count": null,
   "metadata": {},
   "outputs": [],
   "source": [
    "# difference when changing "
   ]
  },
  {
   "cell_type": "code",
   "execution_count": 17,
   "metadata": {},
   "outputs": [
    {
     "name": "stdout",
     "output_type": "stream",
     "text": [
      "Wall time: 822 ms\n"
     ]
    }
   ],
   "source": [
    "%%time\n",
    "list1 = [i*2 for i in list1]"
   ]
  },
  {
   "cell_type": "code",
   "execution_count": 19,
   "metadata": {},
   "outputs": [
    {
     "name": "stdout",
     "output_type": "stream",
     "text": [
      "Wall time: 1.23 s\n"
     ]
    }
   ],
   "source": [
    "%%time\n",
    "for i in range(10000000):\n",
    "    list2[i] = list2[i]*2"
   ]
  },
  {
   "cell_type": "markdown",
   "metadata": {},
   "source": [
    "## Question 1.4 prime numbers"
   ]
  },
  {
   "cell_type": "code",
   "execution_count": 21,
   "metadata": {},
   "outputs": [
    {
     "name": "stdout",
     "output_type": "stream",
     "text": [
      "[0, 1, 2, 3, 4, 5, 6, 7, 8, 9, 10, 11, 12, 13, 14, 15, 16, 17, 18, 19, 20, 21, 22, 23, 24, 25, 26, 27, 28, 29, 30, 31, 32, 33, 34, 35, 36, 37, 38, 39, 40, 41, 42, 43, 44, 45, 46, 47, 48, 49, 50, 51, 52, 53, 54, 55, 56, 57, 58, 59, 60, 61, 62, 63, 64, 65, 66, 67, 68, 69, 70, 71, 72, 73, 74, 75, 76, 77, 78, 79, 80, 81, 82, 83, 84, 85, 86, 87, 88, 89, 90, 91, 92, 93, 94, 95, 96, 97, 98, 99]\n",
      "Choose all prime numbers from previous list:\n",
      "[2, 3, 5, 7, 11, 13, 17, 19, 23, 29, 31, 37, 41, 43, 47, 53, 59, 61, 67, 71, 73, 79, 83, 89, 97]\n"
     ]
    }
   ],
   "source": [
    "ori_list = [i for i in range(100)]\n",
    "print(ori_list)\n",
    "prime_list = [i for i in ori_list if(i>=2 and all([i%j for j in range(2,i)]))]\n",
    "print('Choose all prime numbers from previous list:')\n",
    "print(prime_list)"
   ]
  },
  {
   "cell_type": "markdown",
   "metadata": {},
   "source": [
    "## Question 1.5 extend the vector class"
   ]
  },
  {
   "cell_type": "code",
   "execution_count": 25,
   "metadata": {},
   "outputs": [],
   "source": [
    "import numpy as np\n",
    "\n",
    "class Vector:\n",
    "    def __init__(self, *nums):\n",
    "        if not nums:\n",
    "            print('ERROR! Cannot create without input!')\n",
    "        else:\n",
    "            self.data = np.array([*nums])\n",
    "            self.size = len(self.data)\n",
    "            \n",
    "    def __repr__(self):\n",
    "        return f'Vector({self.data})'\n",
    "    \n",
    "    def __str__(self):\n",
    "        return f\"({self.data})\"\n",
    "    \n",
    "    def __len__(self):\n",
    "        return self.size\n",
    "    \n",
    "    def __getitem__(self, position):\n",
    "        if type(position) == int:\n",
    "            return self.data[position]\n",
    "        else:\n",
    "            return Vector(self.data[position])   # this is for slicing, return a vector\n",
    "    \n",
    "    def __add__(self, other):    \n",
    "    # must be the same size to add\n",
    "        if (self.size == other.size):\n",
    "            new = np.sum([self.data, other.data], axis = 0)\n",
    "            return Vector(new)\n",
    "        else:\n",
    "            print(\"ERROR! Cannot add vectors of different size!\")\n",
    "            \n",
    "    def __mul__(self, scalar):\n",
    "        new = [i*scalar for i in self.data]\n",
    "        return Vector(new)\n",
    "    \n",
    "    def __pow__(self, exponent): \n",
    "        return Vector(self.data ** exponent)\n",
    "    "
   ]
  },
  {
   "cell_type": "code",
   "execution_count": 30,
   "metadata": {},
   "outputs": [
    {
     "name": "stdout",
     "output_type": "stream",
     "text": [
      "4\n",
      "([[8 7]])\n",
      "6\n",
      "([[ 3  6  9 12 15 18]])\n",
      "ERROR! Cannot add vectors of different size!\n"
     ]
    },
    {
     "data": {
      "text/plain": [
       "Vector([[ 1  4  9 16 25 36]])"
      ]
     },
     "execution_count": 30,
     "metadata": {},
     "output_type": "execute_result"
    }
   ],
   "source": [
    "# some tests here\n",
    "v1 = Vector(1,2,3,4,5,6)\n",
    "v2 = Vector(9,8,7)\n",
    "print(v1[3])\n",
    "print(v2[1:3])\n",
    "print(len(v1))\n",
    "print(v1*3)\n",
    "v1+v2\n",
    "v1 ** 2"
   ]
  },
  {
   "cell_type": "markdown",
   "metadata": {},
   "source": [
    "## Question 1.6 Case-insensitive dictionary"
   ]
  },
  {
   "cell_type": "code",
   "execution_count": 4,
   "metadata": {},
   "outputs": [],
   "source": [
    "class CaseInsensitiveDict(dict):\n",
    "        \n",
    "    def __getitem__(self,newkey):\n",
    "        for oldkey in self.keys():\n",
    "            if oldkey.lower() == newkey.lower():\n",
    "                return self.get(oldkey)\n",
    "            \n",
    "    def __setitem__(self, newkey, value):\n",
    "        for oldkey in self.keys():\n",
    "            if oldkey.lower() == newkey:\n",
    "                self.update({oldkey: value})    # just store all of them\n",
    "                return\n",
    "        self.update({newkey:value})\n"
   ]
  },
  {
   "cell_type": "code",
   "execution_count": 5,
   "metadata": {},
   "outputs": [
    {
     "name": "stdout",
     "output_type": "stream",
     "text": [
      "7\n"
     ]
    }
   ],
   "source": [
    "test_dict = CaseInsensitiveDict({'Leyuan':7})\n",
    "print(test_dict['leyuan'])"
   ]
  },
  {
   "cell_type": "code",
   "execution_count": 6,
   "metadata": {},
   "outputs": [
    {
     "name": "stdout",
     "output_type": "stream",
     "text": [
      "13\n"
     ]
    }
   ],
   "source": [
    "test_dict['Leyuan'] = 13\n",
    "print(test_dict['leyuan'])"
   ]
  },
  {
   "cell_type": "code",
   "execution_count": 7,
   "metadata": {},
   "outputs": [
    {
     "name": "stdout",
     "output_type": "stream",
     "text": [
      "{'Leyuan': 13}\n"
     ]
    }
   ],
   "source": [
    "print(test_dict)"
   ]
  }
 ],
 "metadata": {
  "kernelspec": {
   "display_name": "Python 3",
   "language": "python",
   "name": "python3"
  },
  "language_info": {
   "codemirror_mode": {
    "name": "ipython",
    "version": 3
   },
   "file_extension": ".py",
   "mimetype": "text/x-python",
   "name": "python",
   "nbconvert_exporter": "python",
   "pygments_lexer": "ipython3",
   "version": "3.7.6"
  }
 },
 "nbformat": 4,
 "nbformat_minor": 2
}
